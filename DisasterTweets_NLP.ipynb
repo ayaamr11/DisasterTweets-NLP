{
  "cells": [
    {
      "cell_type": "markdown",
      "metadata": {
        "id": "view-in-github",
        "colab_type": "text"
      },
      "source": [
        "<a href=\"https://colab.research.google.com/github/ayaamr11/DisasterTweets-NLP/blob/main/DisasterTweets_NLP.ipynb\" target=\"_parent\"><img src=\"https://colab.research.google.com/assets/colab-badge.svg\" alt=\"Open In Colab\"/></a>"
      ]
    },
    {
      "cell_type": "markdown",
      "source": [
        "## Imports "
      ],
      "metadata": {
        "id": "EasCYsSdpRoC"
      }
    },
    {
      "cell_type": "code",
      "execution_count": null,
      "metadata": {
        "colab": {
          "base_uri": "https://localhost:8080/",
          "height": 36
        },
        "id": "kppfsKTiQLje",
        "outputId": "396667c5-c432-47f7-9177-7c9310963f17"
      },
      "outputs": [
        {
          "output_type": "execute_result",
          "data": {
            "text/plain": [
              "'2.8.0'"
            ],
            "application/vnd.google.colaboratory.intrinsic+json": {
              "type": "string"
            }
          },
          "metadata": {},
          "execution_count": 2
        }
      ],
      "source": [
        "import tensorflow.keras as keras\n",
        "keras.__version__"
      ]
    },
    {
      "cell_type": "code",
      "source": [
        "import pandas as pd\n",
        "import numpy as np\n",
        "import matplotlib.pyplot as plt\n",
        "import seaborn as sns\n",
        "\n",
        "import nltk\n",
        "from nltk.tokenize import word_tokenize\n",
        "from nltk.stem import WordNetLemmatizer\n",
        "from nltk.corpus import stopwords\n",
        "\n",
        "from tensorflow.keras.preprocessing.text import Tokenizer\n",
        "from tensorflow.keras import models\n",
        "from tensorflow.keras import layers  \n",
        "from tensorflow.keras import losses\n",
        "from tensorflow.keras import metrics\n",
        "from tensorflow.keras import optimizers\n",
        "from tensorflow.keras.preprocessing.sequence import pad_sequences\n",
        "from sklearn.model_selection import train_test_split"
      ],
      "metadata": {
        "id": "LZlEXQ6wpVWH"
      },
      "execution_count": null,
      "outputs": []
    },
    {
      "cell_type": "code",
      "source": [
        "nltk.download('stopwords')\n",
        "nltk.download('omw-1.4')\n",
        "nltk.download('wordnet')\n",
        "nltk.download('punkt')"
      ],
      "metadata": {
        "colab": {
          "base_uri": "https://localhost:8080/"
        },
        "id": "EKaKcDevCxFl",
        "outputId": "5837c581-91be-4bd7-e5ec-85d38506501c"
      },
      "execution_count": null,
      "outputs": [
        {
          "output_type": "stream",
          "name": "stderr",
          "text": [
            "[nltk_data] Downloading package stopwords to /root/nltk_data...\n",
            "[nltk_data]   Unzipping corpora/stopwords.zip.\n",
            "[nltk_data] Downloading package omw-1.4 to /root/nltk_data...\n",
            "[nltk_data] Downloading package wordnet to /root/nltk_data...\n",
            "[nltk_data] Downloading package punkt to /root/nltk_data...\n",
            "[nltk_data]   Unzipping tokenizers/punkt.zip.\n"
          ]
        },
        {
          "output_type": "execute_result",
          "data": {
            "text/plain": [
              "True"
            ]
          },
          "metadata": {},
          "execution_count": 4
        }
      ]
    },
    {
      "cell_type": "markdown",
      "metadata": {
        "id": "ckGuO8MwVelA"
      },
      "source": [
        "## Get data"
      ]
    },
    {
      "cell_type": "code",
      "execution_count": null,
      "metadata": {
        "id": "nM8CunT2V3g5"
      },
      "outputs": [],
      "source": [
        "! pip install -q kaggle"
      ]
    },
    {
      "cell_type": "code",
      "execution_count": null,
      "metadata": {
        "colab": {
          "base_uri": "https://localhost:8080/",
          "height": 91,
          "resources": {
            "http://localhost:8080/nbextensions/google.colab/files.js": {
              "data": "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",
              "headers": [
                [
                  "content-type",
                  "application/javascript"
                ]
              ],
              "ok": true,
              "status": 200,
              "status_text": ""
            }
          }
        },
        "id": "JGff9-9nWBGp",
        "outputId": "8e255d9e-5fae-436e-be91-7e64ffc9a18e"
      },
      "outputs": [
        {
          "output_type": "display_data",
          "data": {
            "text/plain": [
              "<IPython.core.display.HTML object>"
            ],
            "text/html": [
              "\n",
              "     <input type=\"file\" id=\"files-1682b586-99a1-4609-b37f-8b66769290a2\" name=\"files[]\" multiple disabled\n",
              "        style=\"border:none\" />\n",
              "     <output id=\"result-1682b586-99a1-4609-b37f-8b66769290a2\">\n",
              "      Upload widget is only available when the cell has been executed in the\n",
              "      current browser session. Please rerun this cell to enable.\n",
              "      </output>\n",
              "      <script src=\"/nbextensions/google.colab/files.js\"></script> "
            ]
          },
          "metadata": {}
        },
        {
          "output_type": "stream",
          "name": "stdout",
          "text": [
            "Saving kaggle.json to kaggle.json\n"
          ]
        },
        {
          "output_type": "execute_result",
          "data": {
            "text/plain": [
              "{'kaggle.json': b'{\"username\":\"ayaamr1223\",\"key\":\"515ab0c79ffa1328032f68aaf9ec4842\"}'}"
            ]
          },
          "metadata": {},
          "execution_count": 6
        }
      ],
      "source": [
        "from google.colab import files\n",
        "\n",
        "files.upload()"
      ]
    },
    {
      "cell_type": "code",
      "execution_count": null,
      "metadata": {
        "id": "gMtN1MeeXLSj"
      },
      "outputs": [],
      "source": [
        "#Make directory named kaggle\n",
        "! mkdir ~/.kaggle"
      ]
    },
    {
      "cell_type": "code",
      "execution_count": null,
      "metadata": {
        "id": "ZVZmeL57XNJN"
      },
      "outputs": [],
      "source": [
        "#Copy kaggle.json file there.\n",
        "! cp kaggle.json ~/.kaggle/"
      ]
    },
    {
      "cell_type": "code",
      "execution_count": null,
      "metadata": {
        "id": "-kWAOMBUXTJC"
      },
      "outputs": [],
      "source": [
        "#Change the permissions of the file. \n",
        "! chmod 600 ~/.kaggle/kaggle.json"
      ]
    },
    {
      "cell_type": "code",
      "execution_count": null,
      "metadata": {
        "id": "vuqjoYQqXYm0"
      },
      "outputs": [],
      "source": [
        "#! kaggle datasets list"
      ]
    },
    {
      "cell_type": "code",
      "execution_count": null,
      "metadata": {
        "colab": {
          "base_uri": "https://localhost:8080/"
        },
        "id": "mEK7PcJ4VU8s",
        "outputId": "581ad9ab-c2c9-49a2-c773-5de77cc519b5"
      },
      "outputs": [
        {
          "output_type": "stream",
          "name": "stdout",
          "text": [
            "Downloading nlp-getting-started.zip to /content\n",
            "\r  0% 0.00/593k [00:00<?, ?B/s]\n",
            "\r100% 593k/593k [00:00<00:00, 93.8MB/s]\n"
          ]
        }
      ],
      "source": [
        "! kaggle competitions download -c nlp-getting-started"
      ]
    },
    {
      "cell_type": "code",
      "source": [
        "#unzip folder from drive\n",
        "!unzip \"/content/nlp-getting-started.zip\""
      ],
      "metadata": {
        "colab": {
          "base_uri": "https://localhost:8080/"
        },
        "id": "vLTjDzIzocjY",
        "outputId": "41b84fa8-ea19-4294-da04-533264fb7155"
      },
      "execution_count": null,
      "outputs": [
        {
          "output_type": "stream",
          "name": "stdout",
          "text": [
            "Archive:  /content/nlp-getting-started.zip\n",
            "  inflating: sample_submission.csv   \n",
            "  inflating: test.csv                \n",
            "  inflating: train.csv               \n"
          ]
        }
      ]
    },
    {
      "cell_type": "markdown",
      "source": [
        "## Explore data"
      ],
      "metadata": {
        "id": "64bn-0gcmkl_"
      }
    },
    {
      "cell_type": "code",
      "source": [
        "#read csv to dataframe\n",
        "train_df = pd.read_csv('train.csv')\n",
        "test_df=  pd.read_csv('test.csv')"
      ],
      "metadata": {
        "id": "xDUkF9FomlGt"
      },
      "execution_count": null,
      "outputs": []
    },
    {
      "cell_type": "code",
      "source": [
        "train_df.head()"
      ],
      "metadata": {
        "colab": {
          "base_uri": "https://localhost:8080/"
        },
        "id": "5l3HZ5Mopfdj",
        "outputId": "2715dfb7-dd8e-4ed6-dc4a-0aa67818c395"
      },
      "execution_count": null,
      "outputs": [
        {
          "output_type": "execute_result",
          "data": {
            "text/plain": [
              "   id keyword location                                               text  \\\n",
              "0   1     NaN      NaN  Our Deeds are the Reason of this #earthquake M...   \n",
              "1   4     NaN      NaN             Forest fire near La Ronge Sask. Canada   \n",
              "2   5     NaN      NaN  All residents asked to 'shelter in place' are ...   \n",
              "3   6     NaN      NaN  13,000 people receive #wildfires evacuation or...   \n",
              "4   7     NaN      NaN  Just got sent this photo from Ruby #Alaska as ...   \n",
              "\n",
              "   target  \n",
              "0       1  \n",
              "1       1  \n",
              "2       1  \n",
              "3       1  \n",
              "4       1  "
            ],
            "text/html": [
              "\n",
              "  <div id=\"df-5734e573-f682-4bf0-b9c7-166ecf3d3f16\">\n",
              "    <div class=\"colab-df-container\">\n",
              "      <div>\n",
              "<style scoped>\n",
              "    .dataframe tbody tr th:only-of-type {\n",
              "        vertical-align: middle;\n",
              "    }\n",
              "\n",
              "    .dataframe tbody tr th {\n",
              "        vertical-align: top;\n",
              "    }\n",
              "\n",
              "    .dataframe thead th {\n",
              "        text-align: right;\n",
              "    }\n",
              "</style>\n",
              "<table border=\"1\" class=\"dataframe\">\n",
              "  <thead>\n",
              "    <tr style=\"text-align: right;\">\n",
              "      <th></th>\n",
              "      <th>id</th>\n",
              "      <th>keyword</th>\n",
              "      <th>location</th>\n",
              "      <th>text</th>\n",
              "      <th>target</th>\n",
              "    </tr>\n",
              "  </thead>\n",
              "  <tbody>\n",
              "    <tr>\n",
              "      <th>0</th>\n",
              "      <td>1</td>\n",
              "      <td>NaN</td>\n",
              "      <td>NaN</td>\n",
              "      <td>Our Deeds are the Reason of this #earthquake M...</td>\n",
              "      <td>1</td>\n",
              "    </tr>\n",
              "    <tr>\n",
              "      <th>1</th>\n",
              "      <td>4</td>\n",
              "      <td>NaN</td>\n",
              "      <td>NaN</td>\n",
              "      <td>Forest fire near La Ronge Sask. Canada</td>\n",
              "      <td>1</td>\n",
              "    </tr>\n",
              "    <tr>\n",
              "      <th>2</th>\n",
              "      <td>5</td>\n",
              "      <td>NaN</td>\n",
              "      <td>NaN</td>\n",
              "      <td>All residents asked to 'shelter in place' are ...</td>\n",
              "      <td>1</td>\n",
              "    </tr>\n",
              "    <tr>\n",
              "      <th>3</th>\n",
              "      <td>6</td>\n",
              "      <td>NaN</td>\n",
              "      <td>NaN</td>\n",
              "      <td>13,000 people receive #wildfires evacuation or...</td>\n",
              "      <td>1</td>\n",
              "    </tr>\n",
              "    <tr>\n",
              "      <th>4</th>\n",
              "      <td>7</td>\n",
              "      <td>NaN</td>\n",
              "      <td>NaN</td>\n",
              "      <td>Just got sent this photo from Ruby #Alaska as ...</td>\n",
              "      <td>1</td>\n",
              "    </tr>\n",
              "  </tbody>\n",
              "</table>\n",
              "</div>\n",
              "      <button class=\"colab-df-convert\" onclick=\"convertToInteractive('df-5734e573-f682-4bf0-b9c7-166ecf3d3f16')\"\n",
              "              title=\"Convert this dataframe to an interactive table.\"\n",
              "              style=\"display:none;\">\n",
              "        \n",
              "  <svg xmlns=\"http://www.w3.org/2000/svg\" height=\"24px\"viewBox=\"0 0 24 24\"\n",
              "       width=\"24px\">\n",
              "    <path d=\"M0 0h24v24H0V0z\" fill=\"none\"/>\n",
              "    <path d=\"M18.56 5.44l.94 2.06.94-2.06 2.06-.94-2.06-.94-.94-2.06-.94 2.06-2.06.94zm-11 1L8.5 8.5l.94-2.06 2.06-.94-2.06-.94L8.5 2.5l-.94 2.06-2.06.94zm10 10l.94 2.06.94-2.06 2.06-.94-2.06-.94-.94-2.06-.94 2.06-2.06.94z\"/><path d=\"M17.41 7.96l-1.37-1.37c-.4-.4-.92-.59-1.43-.59-.52 0-1.04.2-1.43.59L10.3 9.45l-7.72 7.72c-.78.78-.78 2.05 0 2.83L4 21.41c.39.39.9.59 1.41.59.51 0 1.02-.2 1.41-.59l7.78-7.78 2.81-2.81c.8-.78.8-2.07 0-2.86zM5.41 20L4 18.59l7.72-7.72 1.47 1.35L5.41 20z\"/>\n",
              "  </svg>\n",
              "      </button>\n",
              "      \n",
              "  <style>\n",
              "    .colab-df-container {\n",
              "      display:flex;\n",
              "      flex-wrap:wrap;\n",
              "      gap: 12px;\n",
              "    }\n",
              "\n",
              "    .colab-df-convert {\n",
              "      background-color: #E8F0FE;\n",
              "      border: none;\n",
              "      border-radius: 50%;\n",
              "      cursor: pointer;\n",
              "      display: none;\n",
              "      fill: #1967D2;\n",
              "      height: 32px;\n",
              "      padding: 0 0 0 0;\n",
              "      width: 32px;\n",
              "    }\n",
              "\n",
              "    .colab-df-convert:hover {\n",
              "      background-color: #E2EBFA;\n",
              "      box-shadow: 0px 1px 2px rgba(60, 64, 67, 0.3), 0px 1px 3px 1px rgba(60, 64, 67, 0.15);\n",
              "      fill: #174EA6;\n",
              "    }\n",
              "\n",
              "    [theme=dark] .colab-df-convert {\n",
              "      background-color: #3B4455;\n",
              "      fill: #D2E3FC;\n",
              "    }\n",
              "\n",
              "    [theme=dark] .colab-df-convert:hover {\n",
              "      background-color: #434B5C;\n",
              "      box-shadow: 0px 1px 3px 1px rgba(0, 0, 0, 0.15);\n",
              "      filter: drop-shadow(0px 1px 2px rgba(0, 0, 0, 0.3));\n",
              "      fill: #FFFFFF;\n",
              "    }\n",
              "  </style>\n",
              "\n",
              "      <script>\n",
              "        const buttonEl =\n",
              "          document.querySelector('#df-5734e573-f682-4bf0-b9c7-166ecf3d3f16 button.colab-df-convert');\n",
              "        buttonEl.style.display =\n",
              "          google.colab.kernel.accessAllowed ? 'block' : 'none';\n",
              "\n",
              "        async function convertToInteractive(key) {\n",
              "          const element = document.querySelector('#df-5734e573-f682-4bf0-b9c7-166ecf3d3f16');\n",
              "          const dataTable =\n",
              "            await google.colab.kernel.invokeFunction('convertToInteractive',\n",
              "                                                     [key], {});\n",
              "          if (!dataTable) return;\n",
              "\n",
              "          const docLinkHtml = 'Like what you see? Visit the ' +\n",
              "            '<a target=\"_blank\" href=https://colab.research.google.com/notebooks/data_table.ipynb>data table notebook</a>'\n",
              "            + ' to learn more about interactive tables.';\n",
              "          element.innerHTML = '';\n",
              "          dataTable['output_type'] = 'display_data';\n",
              "          await google.colab.output.renderOutput(dataTable, element);\n",
              "          const docLink = document.createElement('div');\n",
              "          docLink.innerHTML = docLinkHtml;\n",
              "          element.appendChild(docLink);\n",
              "        }\n",
              "      </script>\n",
              "    </div>\n",
              "  </div>\n",
              "  "
            ]
          },
          "metadata": {},
          "execution_count": 136
        }
      ]
    },
    {
      "cell_type": "code",
      "source": [
        "train_df.info()"
      ],
      "metadata": {
        "colab": {
          "base_uri": "https://localhost:8080/"
        },
        "id": "2C6EXsWqqQcn",
        "outputId": "f579dbbe-c546-4067-fd5d-5159c18d603d"
      },
      "execution_count": null,
      "outputs": [
        {
          "output_type": "stream",
          "name": "stdout",
          "text": [
            "<class 'pandas.core.frame.DataFrame'>\n",
            "RangeIndex: 7613 entries, 0 to 7612\n",
            "Data columns (total 5 columns):\n",
            " #   Column    Non-Null Count  Dtype \n",
            "---  ------    --------------  ----- \n",
            " 0   id        7613 non-null   int64 \n",
            " 1   keyword   7552 non-null   object\n",
            " 2   location  5080 non-null   object\n",
            " 3   text      7613 non-null   object\n",
            " 4   target    7613 non-null   int64 \n",
            "dtypes: int64(2), object(3)\n",
            "memory usage: 297.5+ KB\n"
          ]
        }
      ]
    },
    {
      "cell_type": "code",
      "source": [
        "#check null values\n",
        "train_df[['keyword','location','text','target']].isnull().sum()"
      ],
      "metadata": {
        "colab": {
          "base_uri": "https://localhost:8080/"
        },
        "id": "hzinNDgLqFPu",
        "outputId": "12dbde1c-9d5b-42c0-fba9-0df770e1b50d"
      },
      "execution_count": null,
      "outputs": [
        {
          "output_type": "execute_result",
          "data": {
            "text/plain": [
              "keyword       61\n",
              "location    2533\n",
              "text           0\n",
              "target         0\n",
              "dtype: int64"
            ]
          },
          "metadata": {},
          "execution_count": 138
        }
      ]
    },
    {
      "cell_type": "code",
      "source": [
        "#check duplicates\n",
        "train_df[['keyword','location','text','target']].duplicated().sum()"
      ],
      "metadata": {
        "colab": {
          "base_uri": "https://localhost:8080/"
        },
        "id": "84tS3qFCrgWX",
        "outputId": "93fae699-7528-4fb4-ea7f-e6a3019c7a70"
      },
      "execution_count": null,
      "outputs": [
        {
          "output_type": "execute_result",
          "data": {
            "text/plain": [
              "52"
            ]
          },
          "metadata": {},
          "execution_count": 139
        }
      ]
    },
    {
      "cell_type": "code",
      "source": [
        "#check if target column is balanced\n",
        "sns.histplot(train_df['target'],stat= 'percent')"
      ],
      "metadata": {
        "colab": {
          "base_uri": "https://localhost:8080/"
        },
        "id": "-ggRLagrt44E",
        "outputId": "1644ffee-2917-42c5-894f-f62c552e4416"
      },
      "execution_count": null,
      "outputs": [
        {
          "output_type": "execute_result",
          "data": {
            "text/plain": [
              "<matplotlib.axes._subplots.AxesSubplot at 0x7f0730f0cfd0>"
            ]
          },
          "metadata": {},
          "execution_count": 140
        },
        {
          "output_type": "display_data",
          "data": {
            "text/plain": [
              "<Figure size 432x288 with 1 Axes>"
            ],
            "image/png": "[encoded data removed]"
          },
          "metadata": {
            "needs_background": "light"
          }
        }
      ]
    },
    {
      "cell_type": "code",
      "source": [
        "train_df['location'] = train_df['location'].astype(str)"
      ],
      "metadata": {
        "id": "lBkCeDx9v6Xv"
      },
      "execution_count": null,
      "outputs": []
    },
    {
      "cell_type": "code",
      "source": [
        "train_df['location'].value_counts()"
      ],
      "metadata": {
        "colab": {
          "base_uri": "https://localhost:8080/"
        },
        "id": "3Id63OZxxD0q",
        "outputId": "31659e1c-7655-4fd8-988d-be8c11a4ed83"
      },
      "execution_count": null,
      "outputs": [
        {
          "output_type": "execute_result",
          "data": {
            "text/plain": [
              "nan                             2533\n",
              "USA                              104\n",
              "New York                          71\n",
              "United States                     50\n",
              "London                            45\n",
              "                                ... \n",
              "Surulere Lagos,Home Of Swagg       1\n",
              "MontrÌ©al, QuÌ©bec                 1\n",
              "Montreal                           1\n",
              "ÌÏT: 6.4682,3.18287                1\n",
              "Lincoln                            1\n",
              "Name: location, Length: 3342, dtype: int64"
            ]
          },
          "metadata": {},
          "execution_count": 142
        }
      ]
    },
    {
      "cell_type": "code",
      "source": [
        "np.unique(train_df['location'])"
      ],
      "metadata": {
        "colab": {
          "base_uri": "https://localhost:8080/"
        },
        "id": "23rH6Lokvd_N",
        "outputId": "447064f6-78bf-47d2-fc93-329108783317"
      },
      "execution_count": null,
      "outputs": [
        {
          "output_type": "execute_result",
          "data": {
            "text/plain": [
              "array(['  ', '  Glasgow ', '  Melbourne, Australia', ...,\n",
              "       'å¡å¡Midwest \\x89Û¢\\x89Û¢', 'åÊ(?\\x89Û¢`?\\x89Û¢å«)??',\n",
              "       'åø\\\\_(?)_/åø'], dtype=object)"
            ]
          },
          "metadata": {},
          "execution_count": 143
        }
      ]
    },
    {
      "cell_type": "markdown",
      "source": [
        "## Data preprocessing ( for train data )"
      ],
      "metadata": {
        "id": "Qr1Xd_3dyT8x"
      }
    },
    {
      "cell_type": "markdown",
      "source": [
        "### Remove duplicates"
      ],
      "metadata": {
        "id": "lSdJQZKDzVx4"
      }
    },
    {
      "cell_type": "code",
      "source": [
        "train_df.drop_duplicates(subset=['keyword','location','text','target'],inplace=True)"
      ],
      "metadata": {
        "id": "jxYeYR5byWkj"
      },
      "execution_count": null,
      "outputs": []
    },
    {
      "cell_type": "code",
      "source": [
        "train_df[['keyword','location','text','target']].duplicated().sum()"
      ],
      "metadata": {
        "colab": {
          "base_uri": "https://localhost:8080/"
        },
        "id": "CCZyeaBrzihH",
        "outputId": "57d7d43e-be64-4925-af46-4449d7c38570"
      },
      "execution_count": null,
      "outputs": [
        {
          "output_type": "execute_result",
          "data": {
            "text/plain": [
              "0"
            ]
          },
          "metadata": {},
          "execution_count": 145
        }
      ]
    },
    {
      "cell_type": "markdown",
      "source": [
        "### Handle null values"
      ],
      "metadata": {
        "id": "XdHITqc6zj3d"
      }
    },
    {
      "cell_type": "code",
      "source": [
        "train_df['location'] = train_df['keyword'].fillna('unknown')\n",
        "train_df['keyword'] = train_df['location'].fillna('unknown')"
      ],
      "metadata": {
        "id": "sYSla3O7zouW"
      },
      "execution_count": null,
      "outputs": []
    },
    {
      "cell_type": "code",
      "source": [
        "train_df.isna().sum()"
      ],
      "metadata": {
        "colab": {
          "base_uri": "https://localhost:8080/"
        },
        "id": "V8zUNfuVz5DZ",
        "outputId": "8f05290a-f53f-4024-c932-f17e540e6a6e"
      },
      "execution_count": null,
      "outputs": [
        {
          "output_type": "execute_result",
          "data": {
            "text/plain": [
              "id          0\n",
              "keyword     0\n",
              "location    0\n",
              "text        0\n",
              "target      0\n",
              "dtype: int64"
            ]
          },
          "metadata": {},
          "execution_count": 147
        }
      ]
    },
    {
      "cell_type": "markdown",
      "source": [
        "### Text toxenization"
      ],
      "metadata": {
        "id": "IG5Qg13az-nu"
      }
    },
    {
      "cell_type": "code",
      "source": [
        "def tokenize(column):\n",
        "\n",
        "    tokens = nltk.word_tokenize(column)\n",
        "    return [w for w in tokens if w.isalpha()]    "
      ],
      "metadata": {
        "id": "zHg-LiAw2nFI"
      },
      "execution_count": null,
      "outputs": []
    },
    {
      "cell_type": "code",
      "source": [
        "# word splittling\n",
        "train_df['tokenized_text'] = train_df.apply(lambda d: tokenize(d['text']), axis=1)"
      ],
      "metadata": {
        "id": "YM1PTXhF3G_M"
      },
      "execution_count": null,
      "outputs": []
    },
    {
      "cell_type": "code",
      "source": [
        "train_df[['tokenized_text']].head()"
      ],
      "metadata": {
        "colab": {
          "base_uri": "https://localhost:8080/",
          "height": 206
        },
        "id": "SPGxP2Y23Mwp",
        "outputId": "d06c2dca-1510-46a2-8ba7-488752b731e9"
      },
      "execution_count": null,
      "outputs": [
        {
          "output_type": "execute_result",
          "data": {
            "text/plain": [
              "                                      tokenized_text\n",
              "0  [Our, Deeds, are, the, Reason, of, this, earth...\n",
              "1      [Forest, fire, near, La, Ronge, Sask, Canada]\n",
              "2  [All, residents, asked, to, in, place, are, be...\n",
              "3  [people, receive, wildfires, evacuation, order...\n",
              "4  [Just, got, sent, this, photo, from, Ruby, Ala..."
            ],
            "text/html": [
              "\n",
              "  <div id=\"df-1901ff23-2294-4626-878e-7c83ffb73f26\">\n",
              "    <div class=\"colab-df-container\">\n",
              "      <div>\n",
              "<style scoped>\n",
              "    .dataframe tbody tr th:only-of-type {\n",
              "        vertical-align: middle;\n",
              "    }\n",
              "\n",
              "    .dataframe tbody tr th {\n",
              "        vertical-align: top;\n",
              "    }\n",
              "\n",
              "    .dataframe thead th {\n",
              "        text-align: right;\n",
              "    }\n",
              "</style>\n",
              "<table border=\"1\" class=\"dataframe\">\n",
              "  <thead>\n",
              "    <tr style=\"text-align: right;\">\n",
              "      <th></th>\n",
              "      <th>tokenized_text</th>\n",
              "    </tr>\n",
              "  </thead>\n",
              "  <tbody>\n",
              "    <tr>\n",
              "      <th>0</th>\n",
              "      <td>[Our, Deeds, are, the, Reason, of, this, earth...</td>\n",
              "    </tr>\n",
              "    <tr>\n",
              "      <th>1</th>\n",
              "      <td>[Forest, fire, near, La, Ronge, Sask, Canada]</td>\n",
              "    </tr>\n",
              "    <tr>\n",
              "      <th>2</th>\n",
              "      <td>[All, residents, asked, to, in, place, are, be...</td>\n",
              "    </tr>\n",
              "    <tr>\n",
              "      <th>3</th>\n",
              "      <td>[people, receive, wildfires, evacuation, order...</td>\n",
              "    </tr>\n",
              "    <tr>\n",
              "      <th>4</th>\n",
              "      <td>[Just, got, sent, this, photo, from, Ruby, Ala...</td>\n",
              "    </tr>\n",
              "  </tbody>\n",
              "</table>\n",
              "</div>\n",
              "      <button class=\"colab-df-convert\" onclick=\"convertToInteractive('df-1901ff23-2294-4626-878e-7c83ffb73f26')\"\n",
              "              title=\"Convert this dataframe to an interactive table.\"\n",
              "              style=\"display:none;\">\n",
              "        \n",
              "  <svg xmlns=\"http://www.w3.org/2000/svg\" height=\"24px\"viewBox=\"0 0 24 24\"\n",
              "       width=\"24px\">\n",
              "    <path d=\"M0 0h24v24H0V0z\" fill=\"none\"/>\n",
              "    <path d=\"M18.56 5.44l.94 2.06.94-2.06 2.06-.94-2.06-.94-.94-2.06-.94 2.06-2.06.94zm-11 1L8.5 8.5l.94-2.06 2.06-.94-2.06-.94L8.5 2.5l-.94 2.06-2.06.94zm10 10l.94 2.06.94-2.06 2.06-.94-2.06-.94-.94-2.06-.94 2.06-2.06.94z\"/><path d=\"M17.41 7.96l-1.37-1.37c-.4-.4-.92-.59-1.43-.59-.52 0-1.04.2-1.43.59L10.3 9.45l-7.72 7.72c-.78.78-.78 2.05 0 2.83L4 21.41c.39.39.9.59 1.41.59.51 0 1.02-.2 1.41-.59l7.78-7.78 2.81-2.81c.8-.78.8-2.07 0-2.86zM5.41 20L4 18.59l7.72-7.72 1.47 1.35L5.41 20z\"/>\n",
              "  </svg>\n",
              "      </button>\n",
              "      \n",
              "  <style>\n",
              "    .colab-df-container {\n",
              "      display:flex;\n",
              "      flex-wrap:wrap;\n",
              "      gap: 12px;\n",
              "    }\n",
              "\n",
              "    .colab-df-convert {\n",
              "      background-color: #E8F0FE;\n",
              "      border: none;\n",
              "      border-radius: 50%;\n",
              "      cursor: pointer;\n",
              "      display: none;\n",
              "      fill: #1967D2;\n",
              "      height: 32px;\n",
              "      padding: 0 0 0 0;\n",
              "      width: 32px;\n",
              "    }\n",
              "\n",
              "    .colab-df-convert:hover {\n",
              "      background-color: #E2EBFA;\n",
              "      box-shadow: 0px 1px 2px rgba(60, 64, 67, 0.3), 0px 1px 3px 1px rgba(60, 64, 67, 0.15);\n",
              "      fill: #174EA6;\n",
              "    }\n",
              "\n",
              "    [theme=dark] .colab-df-convert {\n",
              "      background-color: #3B4455;\n",
              "      fill: #D2E3FC;\n",
              "    }\n",
              "\n",
              "    [theme=dark] .colab-df-convert:hover {\n",
              "      background-color: #434B5C;\n",
              "      box-shadow: 0px 1px 3px 1px rgba(0, 0, 0, 0.15);\n",
              "      filter: drop-shadow(0px 1px 2px rgba(0, 0, 0, 0.3));\n",
              "      fill: #FFFFFF;\n",
              "    }\n",
              "  </style>\n",
              "\n",
              "      <script>\n",
              "        const buttonEl =\n",
              "          document.querySelector('#df-1901ff23-2294-4626-878e-7c83ffb73f26 button.colab-df-convert');\n",
              "        buttonEl.style.display =\n",
              "          google.colab.kernel.accessAllowed ? 'block' : 'none';\n",
              "\n",
              "        async function convertToInteractive(key) {\n",
              "          const element = document.querySelector('#df-1901ff23-2294-4626-878e-7c83ffb73f26');\n",
              "          const dataTable =\n",
              "            await google.colab.kernel.invokeFunction('convertToInteractive',\n",
              "                                                     [key], {});\n",
              "          if (!dataTable) return;\n",
              "\n",
              "          const docLinkHtml = 'Like what you see? Visit the ' +\n",
              "            '<a target=\"_blank\" href=https://colab.research.google.com/notebooks/data_table.ipynb>data table notebook</a>'\n",
              "            + ' to learn more about interactive tables.';\n",
              "          element.innerHTML = '';\n",
              "          dataTable['output_type'] = 'display_data';\n",
              "          await google.colab.output.renderOutput(dataTable, element);\n",
              "          const docLink = document.createElement('div');\n",
              "          docLink.innerHTML = docLinkHtml;\n",
              "          element.appendChild(docLink);\n",
              "        }\n",
              "      </script>\n",
              "    </div>\n",
              "  </div>\n",
              "  "
            ]
          },
          "metadata": {},
          "execution_count": 150
        }
      ]
    },
    {
      "cell_type": "markdown",
      "source": [
        "### Convert to lowercase"
      ],
      "metadata": {
        "id": "NgHy2a7t3PrI"
      }
    },
    {
      "cell_type": "code",
      "source": [
        "def lowerCase_converter(column):\n",
        "\n",
        "  col = [x.lower() for x in column]\n",
        "  return col"
      ],
      "metadata": {
        "id": "d-XH8nYN3PYB"
      },
      "execution_count": null,
      "outputs": []
    },
    {
      "cell_type": "code",
      "source": [
        "# word lowercasing\n",
        "train_df['preprocessed_text'] = train_df.apply(lambda d: lowerCase_converter(d['tokenized_text']), axis=1)"
      ],
      "metadata": {
        "id": "5gF3mcCi3SRU"
      },
      "execution_count": null,
      "outputs": []
    },
    {
      "cell_type": "code",
      "source": [
        "train_df['preprocessed_text'].head()"
      ],
      "metadata": {
        "colab": {
          "base_uri": "https://localhost:8080/"
        },
        "id": "eyGGQrKX4QFt",
        "outputId": "1ecf509f-c363-46a6-f2d7-0f4d1732ce7f"
      },
      "execution_count": null,
      "outputs": [
        {
          "output_type": "execute_result",
          "data": {
            "text/plain": [
              "0    [our, deeds, are, the, reason, of, this, earth...\n",
              "1        [forest, fire, near, la, ronge, sask, canada]\n",
              "2    [all, residents, asked, to, in, place, are, be...\n",
              "3    [people, receive, wildfires, evacuation, order...\n",
              "4    [just, got, sent, this, photo, from, ruby, ala...\n",
              "Name: preprocessed_text, dtype: object"
            ]
          },
          "metadata": {},
          "execution_count": 153
        }
      ]
    },
    {
      "cell_type": "markdown",
      "source": [
        "### Remove stopword"
      ],
      "metadata": {
        "id": "cBtaGJKo3WXy"
      }
    },
    {
      "cell_type": "code",
      "source": [
        "all_stopwords = stopwords.words('english')\n",
        "all_stopwords.remove('not')\n",
        "\n",
        "def remove_stopWords(column):\n",
        "  col = [word for word in column if not word in all_stopwords]\n",
        "  return col"
      ],
      "metadata": {
        "id": "AJzmUK2B4gSR"
      },
      "execution_count": null,
      "outputs": []
    },
    {
      "cell_type": "code",
      "source": [
        "# remove stopwords\n",
        "train_df['preprocessed_text'] = train_df.apply(lambda d: remove_stopWords(d['preprocessed_text']), axis=1)"
      ],
      "metadata": {
        "id": "h6fUPoBp3gI0"
      },
      "execution_count": null,
      "outputs": []
    },
    {
      "cell_type": "code",
      "source": [
        "train_df['preprocessed_text'].head()"
      ],
      "metadata": {
        "colab": {
          "base_uri": "https://localhost:8080/"
        },
        "id": "UcaPphRq5PuR",
        "outputId": "f3fcdb5f-b80b-4384-82f5-62c5152395c1"
      },
      "execution_count": null,
      "outputs": [
        {
          "output_type": "execute_result",
          "data": {
            "text/plain": [
              "0    [deeds, reason, earthquake, may, allah, forgiv...\n",
              "1        [forest, fire, near, la, ronge, sask, canada]\n",
              "2    [residents, asked, place, notified, officers, ...\n",
              "3    [people, receive, wildfires, evacuation, order...\n",
              "4    [got, sent, photo, ruby, alaska, smoke, wildfi...\n",
              "Name: preprocessed_text, dtype: object"
            ]
          },
          "metadata": {},
          "execution_count": 156
        }
      ]
    },
    {
      "cell_type": "markdown",
      "source": [
        "### Text lemmetization"
      ],
      "metadata": {
        "id": "LVusuuNh3wLf"
      }
    },
    {
      "cell_type": "code",
      "source": [
        "def lemmatize_words(words):\n",
        "    lemmatizer = WordNetLemmatizer()\n",
        "    return [lemmatizer.lemmatize(word) for word in words]\n",
        "\n",
        "def lemmatize_verbs(words):\n",
        "    lemmatizer = WordNetLemmatizer()\n",
        "    return [lemmatizer.lemmatize(word, pos='v') for word in words]"
      ],
      "metadata": {
        "id": "XmDSTw8x3ymY"
      },
      "execution_count": null,
      "outputs": []
    },
    {
      "cell_type": "code",
      "source": [
        "train_df['preprocessed_text'] = train_df.apply(lambda d: lemmatize_words(d['preprocessed_text']), axis=1)"
      ],
      "metadata": {
        "id": "9T_hFZSm5XPn"
      },
      "execution_count": null,
      "outputs": []
    },
    {
      "cell_type": "code",
      "source": [
        "train_df['preprocessed_text'].head()"
      ],
      "metadata": {
        "colab": {
          "base_uri": "https://localhost:8080/"
        },
        "id": "t0cdt06Z5kgU",
        "outputId": "96cf0e56-8742-4938-a103-71e2b1674f7b"
      },
      "execution_count": null,
      "outputs": [
        {
          "output_type": "execute_result",
          "data": {
            "text/plain": [
              "0    [deed, reason, earthquake, may, allah, forgive...\n",
              "1        [forest, fire, near, la, ronge, sask, canada]\n",
              "2    [resident, asked, place, notified, officer, ev...\n",
              "3    [people, receive, wildfire, evacuation, order,...\n",
              "4    [got, sent, photo, ruby, alaska, smoke, wildfi...\n",
              "Name: preprocessed_text, dtype: object"
            ]
          },
          "metadata": {},
          "execution_count": 159
        }
      ]
    },
    {
      "cell_type": "code",
      "source": [
        "train_df['preprocessed_text'] = train_df.apply(lambda d: lemmatize_verbs(d['preprocessed_text']), axis=1)"
      ],
      "metadata": {
        "id": "OZVjmJ546e1n"
      },
      "execution_count": null,
      "outputs": []
    },
    {
      "cell_type": "code",
      "source": [
        "train_df['preprocessed_text'].head()"
      ],
      "metadata": {
        "colab": {
          "base_uri": "https://localhost:8080/"
        },
        "id": "vJfteZDL6jlu",
        "outputId": "82673a36-bd1f-417f-beae-1fa3bee19366"
      },
      "execution_count": null,
      "outputs": [
        {
          "output_type": "execute_result",
          "data": {
            "text/plain": [
              "0    [deed, reason, earthquake, may, allah, forgive...\n",
              "1        [forest, fire, near, la, ronge, sask, canada]\n",
              "2    [resident, ask, place, notify, officer, evacua...\n",
              "3    [people, receive, wildfire, evacuation, order,...\n",
              "4    [get, send, photo, ruby, alaska, smoke, wildfi...\n",
              "Name: preprocessed_text, dtype: object"
            ]
          },
          "metadata": {},
          "execution_count": 161
        }
      ]
    },
    {
      "cell_type": "markdown",
      "source": [
        "## Text preprocessing ( for test data )"
      ],
      "metadata": {
        "id": "2DrpLCMt8spA"
      }
    },
    {
      "cell_type": "code",
      "source": [
        "test_df['location'] = test_df['keyword'].fillna('unknown')\n",
        "test_df['keyword'] = test_df['location'].fillna('unknown')\n",
        "test_df['tokenized_text'] = test_df.apply(lambda d: tokenize(d['text']), axis=1)\n",
        "test_df['preprocessed_text'] = test_df.apply(lambda d: lowerCase_converter(d['tokenized_text']), axis=1)\n",
        "test_df['preprocessed_text'] = test_df.apply(lambda d: remove_stopWords(d['preprocessed_text']), axis=1)\n",
        "test_df['preprocessed_text'] = test_df.apply(lambda d: lemmatize_words(d['preprocessed_text']), axis=1)\n",
        "test_df['preprocessed_text'] = test_df.apply(lambda d: lemmatize_verbs(d['preprocessed_text']), axis=1)"
      ],
      "metadata": {
        "id": "YefFDQ2x8zxt"
      },
      "execution_count": null,
      "outputs": []
    },
    {
      "cell_type": "code",
      "source": [
        "test_df.head()"
      ],
      "metadata": {
        "colab": {
          "base_uri": "https://localhost:8080/",
          "height": 250
        },
        "id": "FcnIr9zk9o0a",
        "outputId": "b74ff0fd-f933-4460-b16f-ba4723ffaa36"
      },
      "execution_count": null,
      "outputs": [
        {
          "output_type": "execute_result",
          "data": {
            "text/plain": [
              "   id  keyword location                                               text  \\\n",
              "0   0  unknown  unknown                 Just happened a terrible car crash   \n",
              "1   2  unknown  unknown  Heard about #earthquake is different cities, s...   \n",
              "2   3  unknown  unknown  there is a forest fire at spot pond, geese are...   \n",
              "3   9  unknown  unknown           Apocalypse lighting. #Spokane #wildfires   \n",
              "4  11  unknown  unknown      Typhoon Soudelor kills 28 in China and Taiwan   \n",
              "\n",
              "                                      tokenized_text  \\\n",
              "0          [Just, happened, a, terrible, car, crash]   \n",
              "1  [Heard, about, earthquake, is, different, citi...   \n",
              "2  [there, is, a, forest, fire, at, spot, pond, g...   \n",
              "3         [Apocalypse, lighting, Spokane, wildfires]   \n",
              "4  [Typhoon, Soudelor, kills, in, China, and, Tai...   \n",
              "\n",
              "                                   preprocessed_text  \n",
              "0                     [happen, terrible, car, crash]  \n",
              "1  [hear, earthquake, different, city, stay, safe...  \n",
              "2  [forest, fire, spot, pond, goose, flee, across...  \n",
              "3             [apocalypse, light, spokane, wildfire]  \n",
              "4           [typhoon, soudelor, kill, china, taiwan]  "
            ],
            "text/html": [
              "\n",
              "  <div id=\"df-44cfd5c0-57fe-4eab-8272-ee7e93631d62\">\n",
              "    <div class=\"colab-df-container\">\n",
              "      <div>\n",
              "<style scoped>\n",
              "    .dataframe tbody tr th:only-of-type {\n",
              "        vertical-align: middle;\n",
              "    }\n",
              "\n",
              "    .dataframe tbody tr th {\n",
              "        vertical-align: top;\n",
              "    }\n",
              "\n",
              "    .dataframe thead th {\n",
              "        text-align: right;\n",
              "    }\n",
              "</style>\n",
              "<table border=\"1\" class=\"dataframe\">\n",
              "  <thead>\n",
              "    <tr style=\"text-align: right;\">\n",
              "      <th></th>\n",
              "      <th>id</th>\n",
              "      <th>keyword</th>\n",
              "      <th>location</th>\n",
              "      <th>text</th>\n",
              "      <th>tokenized_text</th>\n",
              "      <th>preprocessed_text</th>\n",
              "    </tr>\n",
              "  </thead>\n",
              "  <tbody>\n",
              "    <tr>\n",
              "      <th>0</th>\n",
              "      <td>0</td>\n",
              "      <td>unknown</td>\n",
              "      <td>unknown</td>\n",
              "      <td>Just happened a terrible car crash</td>\n",
              "      <td>[Just, happened, a, terrible, car, crash]</td>\n",
              "      <td>[happen, terrible, car, crash]</td>\n",
              "    </tr>\n",
              "    <tr>\n",
              "      <th>1</th>\n",
              "      <td>2</td>\n",
              "      <td>unknown</td>\n",
              "      <td>unknown</td>\n",
              "      <td>Heard about #earthquake is different cities, s...</td>\n",
              "      <td>[Heard, about, earthquake, is, different, citi...</td>\n",
              "      <td>[hear, earthquake, different, city, stay, safe...</td>\n",
              "    </tr>\n",
              "    <tr>\n",
              "      <th>2</th>\n",
              "      <td>3</td>\n",
              "      <td>unknown</td>\n",
              "      <td>unknown</td>\n",
              "      <td>there is a forest fire at spot pond, geese are...</td>\n",
              "      <td>[there, is, a, forest, fire, at, spot, pond, g...</td>\n",
              "      <td>[forest, fire, spot, pond, goose, flee, across...</td>\n",
              "    </tr>\n",
              "    <tr>\n",
              "      <th>3</th>\n",
              "      <td>9</td>\n",
              "      <td>unknown</td>\n",
              "      <td>unknown</td>\n",
              "      <td>Apocalypse lighting. #Spokane #wildfires</td>\n",
              "      <td>[Apocalypse, lighting, Spokane, wildfires]</td>\n",
              "      <td>[apocalypse, light, spokane, wildfire]</td>\n",
              "    </tr>\n",
              "    <tr>\n",
              "      <th>4</th>\n",
              "      <td>11</td>\n",
              "      <td>unknown</td>\n",
              "      <td>unknown</td>\n",
              "      <td>Typhoon Soudelor kills 28 in China and Taiwan</td>\n",
              "      <td>[Typhoon, Soudelor, kills, in, China, and, Tai...</td>\n",
              "      <td>[typhoon, soudelor, kill, china, taiwan]</td>\n",
              "    </tr>\n",
              "  </tbody>\n",
              "</table>\n",
              "</div>\n",
              "      <button class=\"colab-df-convert\" onclick=\"convertToInteractive('df-44cfd5c0-57fe-4eab-8272-ee7e93631d62')\"\n",
              "              title=\"Convert this dataframe to an interactive table.\"\n",
              "              style=\"display:none;\">\n",
              "        \n",
              "  <svg xmlns=\"http://www.w3.org/2000/svg\" height=\"24px\"viewBox=\"0 0 24 24\"\n",
              "       width=\"24px\">\n",
              "    <path d=\"M0 0h24v24H0V0z\" fill=\"none\"/>\n",
              "    <path d=\"M18.56 5.44l.94 2.06.94-2.06 2.06-.94-2.06-.94-.94-2.06-.94 2.06-2.06.94zm-11 1L8.5 8.5l.94-2.06 2.06-.94-2.06-.94L8.5 2.5l-.94 2.06-2.06.94zm10 10l.94 2.06.94-2.06 2.06-.94-2.06-.94-.94-2.06-.94 2.06-2.06.94z\"/><path d=\"M17.41 7.96l-1.37-1.37c-.4-.4-.92-.59-1.43-.59-.52 0-1.04.2-1.43.59L10.3 9.45l-7.72 7.72c-.78.78-.78 2.05 0 2.83L4 21.41c.39.39.9.59 1.41.59.51 0 1.02-.2 1.41-.59l7.78-7.78 2.81-2.81c.8-.78.8-2.07 0-2.86zM5.41 20L4 18.59l7.72-7.72 1.47 1.35L5.41 20z\"/>\n",
              "  </svg>\n",
              "      </button>\n",
              "      \n",
              "  <style>\n",
              "    .colab-df-container {\n",
              "      display:flex;\n",
              "      flex-wrap:wrap;\n",
              "      gap: 12px;\n",
              "    }\n",
              "\n",
              "    .colab-df-convert {\n",
              "      background-color: #E8F0FE;\n",
              "      border: none;\n",
              "      border-radius: 50%;\n",
              "      cursor: pointer;\n",
              "      display: none;\n",
              "      fill: #1967D2;\n",
              "      height: 32px;\n",
              "      padding: 0 0 0 0;\n",
              "      width: 32px;\n",
              "    }\n",
              "\n",
              "    .colab-df-convert:hover {\n",
              "      background-color: #E2EBFA;\n",
              "      box-shadow: 0px 1px 2px rgba(60, 64, 67, 0.3), 0px 1px 3px 1px rgba(60, 64, 67, 0.15);\n",
              "      fill: #174EA6;\n",
              "    }\n",
              "\n",
              "    [theme=dark] .colab-df-convert {\n",
              "      background-color: #3B4455;\n",
              "      fill: #D2E3FC;\n",
              "    }\n",
              "\n",
              "    [theme=dark] .colab-df-convert:hover {\n",
              "      background-color: #434B5C;\n",
              "      box-shadow: 0px 1px 3px 1px rgba(0, 0, 0, 0.15);\n",
              "      filter: drop-shadow(0px 1px 2px rgba(0, 0, 0, 0.3));\n",
              "      fill: #FFFFFF;\n",
              "    }\n",
              "  </style>\n",
              "\n",
              "      <script>\n",
              "        const buttonEl =\n",
              "          document.querySelector('#df-44cfd5c0-57fe-4eab-8272-ee7e93631d62 button.colab-df-convert');\n",
              "        buttonEl.style.display =\n",
              "          google.colab.kernel.accessAllowed ? 'block' : 'none';\n",
              "\n",
              "        async function convertToInteractive(key) {\n",
              "          const element = document.querySelector('#df-44cfd5c0-57fe-4eab-8272-ee7e93631d62');\n",
              "          const dataTable =\n",
              "            await google.colab.kernel.invokeFunction('convertToInteractive',\n",
              "                                                     [key], {});\n",
              "          if (!dataTable) return;\n",
              "\n",
              "          const docLinkHtml = 'Like what you see? Visit the ' +\n",
              "            '<a target=\"_blank\" href=https://colab.research.google.com/notebooks/data_table.ipynb>data table notebook</a>'\n",
              "            + ' to learn more about interactive tables.';\n",
              "          element.innerHTML = '';\n",
              "          dataTable['output_type'] = 'display_data';\n",
              "          await google.colab.output.renderOutput(dataTable, element);\n",
              "          const docLink = document.createElement('div');\n",
              "          docLink.innerHTML = docLinkHtml;\n",
              "          element.appendChild(docLink);\n",
              "        }\n",
              "      </script>\n",
              "    </div>\n",
              "  </div>\n",
              "  "
            ]
          },
          "metadata": {},
          "execution_count": 163
        }
      ]
    },
    {
      "cell_type": "markdown",
      "source": [
        "## Data preparing "
      ],
      "metadata": {
        "id": "7JJwSD826pC4"
      }
    },
    {
      "cell_type": "code",
      "source": [
        "train_df.drop(['tokenized_text'],axis=1,inplace=True)\n",
        "test_df.drop(['tokenized_text'],axis=1,inplace=True)"
      ],
      "metadata": {
        "id": "7f5M2qxz7jV9"
      },
      "execution_count": null,
      "outputs": []
    },
    {
      "cell_type": "code",
      "source": [
        "# function to convert list of strings to one string\n",
        "def merge_to_text(column):\n",
        "  return ' '.join(column)"
      ],
      "metadata": {
        "id": "VRcwREAb64RR"
      },
      "execution_count": null,
      "outputs": []
    },
    {
      "cell_type": "code",
      "source": [
        "train_df['text'] = train_df.apply(lambda d: merge_to_text(d['preprocessed_text']), axis=1)\n",
        "test_df['text'] = test_df.apply(lambda d: merge_to_text(d['preprocessed_text']), axis=1)"
      ],
      "metadata": {
        "id": "Y-TFwM4Z_mGT"
      },
      "execution_count": null,
      "outputs": []
    },
    {
      "cell_type": "code",
      "source": [
        "train_df['text']"
      ],
      "metadata": {
        "colab": {
          "base_uri": "https://localhost:8080/"
        },
        "id": "J-nhM44S_zaL",
        "outputId": "24a3cb12-7290-45e3-da11-bdb646ea29d5"
      },
      "execution_count": null,
      "outputs": [
        {
          "output_type": "execute_result",
          "data": {
            "text/plain": [
              "0              deed reason earthquake may allah forgive u\n",
              "1                   forest fire near la ronge sask canada\n",
              "2       resident ask place notify officer evacuation s...\n",
              "3       people receive wildfire evacuation order calif...\n",
              "4       get send photo ruby alaska smoke wildfire pour...\n",
              "                              ...                        \n",
              "7608    two giant crane hold bridge collapse nearby ho...\n",
              "7609    thetawniest control wild fire california even ...\n",
              "7610                              utc volcano hawaii http\n",
              "7611    police investigate collide car little portugal...\n",
              "7612    latest home raze northern california wildfire ...\n",
              "Name: text, Length: 7561, dtype: object"
            ]
          },
          "metadata": {},
          "execution_count": 167
        }
      ]
    },
    {
      "cell_type": "code",
      "source": [
        "train_text= train_df['text'].tolist()\n",
        "test_text= test_df['text'].tolist()"
      ],
      "metadata": {
        "id": "S__h_Rys94Vm"
      },
      "execution_count": null,
      "outputs": []
    },
    {
      "cell_type": "code",
      "source": [
        "y_train = train_df['target']"
      ],
      "metadata": {
        "id": "2VA25sVqBl32"
      },
      "execution_count": null,
      "outputs": []
    },
    {
      "cell_type": "markdown",
      "source": [
        "## Bag Of Words ( BoW )"
      ],
      "metadata": {
        "id": "Cem2vYIfAZd_"
      }
    },
    {
      "cell_type": "code",
      "source": [
        "tok = Tokenizer(num_words=1000, oov_token='UNK')\n",
        "tok.fit_on_texts(train_text + test_text)\n",
        "# Extract binary BoW features\n",
        "x_train = tok.texts_to_matrix(train_text, mode='binary')\n",
        "x_test = tok.texts_to_matrix(test_text, mode='binary')"
      ],
      "metadata": {
        "id": "As9ZO3TMAajG"
      },
      "execution_count": null,
      "outputs": []
    },
    {
      "cell_type": "code",
      "source": [
        "vocab_size = len(tok.word_index) + 1"
      ],
      "metadata": {
        "id": "KoBjvcHhBfMM"
      },
      "execution_count": null,
      "outputs": []
    },
    {
      "cell_type": "code",
      "source": [
        "vocab_size"
      ],
      "metadata": {
        "colab": {
          "base_uri": "https://localhost:8080/"
        },
        "id": "ZHC_QPe7Bl_l",
        "outputId": "bdd6e253-d4ab-4145-f8e0-e02fb03b71d4"
      },
      "execution_count": null,
      "outputs": [
        {
          "output_type": "execute_result",
          "data": {
            "text/plain": [
              "15657"
            ]
          },
          "metadata": {},
          "execution_count": 187
        }
      ]
    },
    {
      "cell_type": "code",
      "source": [
        "print(x_train.shape)\n",
        "print(y_train.shape)\n",
        "print(x_test.shape)"
      ],
      "metadata": {
        "colab": {
          "base_uri": "https://localhost:8080/"
        },
        "id": "W_qYaCj9AohO",
        "outputId": "3c0f31a4-4341-4f9c-c68c-831d73bfc936"
      },
      "execution_count": null,
      "outputs": [
        {
          "output_type": "stream",
          "name": "stdout",
          "text": [
            "(7561, 1000)\n",
            "(7561,)\n",
            "(3263, 1000)\n"
          ]
        }
      ]
    },
    {
      "cell_type": "code",
      "source": [
        "x_val = x_train[:1000]\n",
        "partial_x_train = x_train[1000:]\n",
        "\n",
        "y_val = y_train[:1000]\n",
        "partial_y_train = y_train[1000:]"
      ],
      "metadata": {
        "id": "qAzI0t06CnUe"
      },
      "execution_count": null,
      "outputs": []
    },
    {
      "cell_type": "markdown",
      "source": [
        "## Normal Dense Model"
      ],
      "metadata": {
        "id": "lCYoNn_1xVjT"
      }
    },
    {
      "cell_type": "code",
      "source": [
        "model = models.Sequential()\n",
        "model.add(layers.Dense(16, activation='relu', input_shape=(1000,)))\n",
        "model.add(layers.Dense(16, activation='relu'))\n",
        "model.add(layers.Dense(16, activation='relu'))\n",
        "model.add(layers.Dense(1, activation='sigmoid'))"
      ],
      "metadata": {
        "id": "HCBvaAOkCeCO"
      },
      "execution_count": null,
      "outputs": []
    },
    {
      "cell_type": "code",
      "source": [
        "model.compile(optimizer=optimizers.RMSprop(lr=0.001),\n",
        "              loss=losses.binary_crossentropy,\n",
        "              metrics=[metrics.binary_accuracy])\n"
      ],
      "metadata": {
        "colab": {
          "base_uri": "https://localhost:8080/"
        },
        "id": "N3r3aTXtHeoR",
        "outputId": "bcd041e4-1b0e-4879-e3a3-92a4f416e17d"
      },
      "execution_count": null,
      "outputs": [
        {
          "output_type": "stream",
          "name": "stderr",
          "text": [
            "/usr/local/lib/python3.7/dist-packages/keras/optimizer_v2/rmsprop.py:130: UserWarning: The `lr` argument is deprecated, use `learning_rate` instead.\n",
            "  super(RMSprop, self).__init__(name, **kwargs)\n"
          ]
        }
      ]
    },
    {
      "cell_type": "code",
      "source": [
        "history = model.fit(partial_x_train,\n",
        "                    partial_y_train,\n",
        "                    epochs=20,\n",
        "                    batch_size=512,\n",
        "                    validation_data=(x_val, y_val))"
      ],
      "metadata": {
        "colab": {
          "base_uri": "https://localhost:8080/"
        },
        "id": "Shf69c3wDIW0",
        "outputId": "d4cb35dc-2ee2-4859-8931-324517bf9477"
      },
      "execution_count": null,
      "outputs": [
        {
          "output_type": "stream",
          "name": "stdout",
          "text": [
            "Epoch 1/20\n",
            "13/13 [==============================] - 1s 18ms/step - loss: 0.6799 - binary_accuracy: 0.6426 - val_loss: 0.6606 - val_binary_accuracy: 0.7580\n",
            "Epoch 2/20\n",
            "13/13 [==============================] - 0s 8ms/step - loss: 0.6429 - binary_accuracy: 0.7458 - val_loss: 0.6216 - val_binary_accuracy: 0.7830\n",
            "Epoch 3/20\n",
            "13/13 [==============================] - 0s 7ms/step - loss: 0.5957 - binary_accuracy: 0.7884 - val_loss: 0.5779 - val_binary_accuracy: 0.7980\n",
            "Epoch 4/20\n",
            "13/13 [==============================] - 0s 8ms/step - loss: 0.5447 - binary_accuracy: 0.8029 - val_loss: 0.5388 - val_binary_accuracy: 0.7970\n",
            "Epoch 5/20\n",
            "13/13 [==============================] - 0s 8ms/step - loss: 0.4985 - binary_accuracy: 0.8099 - val_loss: 0.5090 - val_binary_accuracy: 0.7870\n",
            "Epoch 6/20\n",
            "13/13 [==============================] - 0s 9ms/step - loss: 0.4604 - binary_accuracy: 0.8180 - val_loss: 0.5023 - val_binary_accuracy: 0.7750\n",
            "Epoch 7/20\n",
            "13/13 [==============================] - 0s 8ms/step - loss: 0.4317 - binary_accuracy: 0.8255 - val_loss: 0.4871 - val_binary_accuracy: 0.7800\n",
            "Epoch 8/20\n",
            "13/13 [==============================] - 0s 8ms/step - loss: 0.4104 - binary_accuracy: 0.8301 - val_loss: 0.4829 - val_binary_accuracy: 0.7830\n",
            "Epoch 9/20\n",
            "13/13 [==============================] - 0s 7ms/step - loss: 0.3949 - binary_accuracy: 0.8354 - val_loss: 0.4819 - val_binary_accuracy: 0.7880\n",
            "Epoch 10/20\n",
            "13/13 [==============================] - 0s 7ms/step - loss: 0.3820 - binary_accuracy: 0.8360 - val_loss: 0.4832 - val_binary_accuracy: 0.7810\n",
            "Epoch 11/20\n",
            "13/13 [==============================] - 0s 8ms/step - loss: 0.3718 - binary_accuracy: 0.8409 - val_loss: 0.4919 - val_binary_accuracy: 0.7770\n",
            "Epoch 12/20\n",
            "13/13 [==============================] - 0s 7ms/step - loss: 0.3628 - binary_accuracy: 0.8461 - val_loss: 0.5001 - val_binary_accuracy: 0.7720\n",
            "Epoch 13/20\n",
            "13/13 [==============================] - 0s 8ms/step - loss: 0.3548 - binary_accuracy: 0.8468 - val_loss: 0.5006 - val_binary_accuracy: 0.7720\n",
            "Epoch 14/20\n",
            "13/13 [==============================] - 0s 8ms/step - loss: 0.3472 - binary_accuracy: 0.8525 - val_loss: 0.5007 - val_binary_accuracy: 0.7780\n",
            "Epoch 15/20\n",
            "13/13 [==============================] - 0s 9ms/step - loss: 0.3409 - binary_accuracy: 0.8537 - val_loss: 0.5145 - val_binary_accuracy: 0.7730\n",
            "Epoch 16/20\n",
            "13/13 [==============================] - 0s 7ms/step - loss: 0.3347 - binary_accuracy: 0.8592 - val_loss: 0.5370 - val_binary_accuracy: 0.7600\n",
            "Epoch 17/20\n",
            "13/13 [==============================] - 0s 10ms/step - loss: 0.3282 - binary_accuracy: 0.8590 - val_loss: 0.5397 - val_binary_accuracy: 0.7660\n",
            "Epoch 18/20\n",
            "13/13 [==============================] - 0s 8ms/step - loss: 0.3227 - binary_accuracy: 0.8625 - val_loss: 0.5428 - val_binary_accuracy: 0.7690\n",
            "Epoch 19/20\n",
            "13/13 [==============================] - 0s 8ms/step - loss: 0.3173 - binary_accuracy: 0.8653 - val_loss: 0.5508 - val_binary_accuracy: 0.7670\n",
            "Epoch 20/20\n",
            "13/13 [==============================] - 0s 7ms/step - loss: 0.3112 - binary_accuracy: 0.8676 - val_loss: 0.5576 - val_binary_accuracy: 0.7670\n"
          ]
        }
      ]
    },
    {
      "cell_type": "code",
      "source": [
        "test_loss, test_acc = model.evaluate(x_val, y_val)"
      ],
      "metadata": {
        "colab": {
          "base_uri": "https://localhost:8080/"
        },
        "id": "qzwLcA8N3o7R",
        "outputId": "f66d9b95-cb83-4fa5-9223-bf4961d07a37"
      },
      "execution_count": null,
      "outputs": [
        {
          "output_type": "stream",
          "name": "stdout",
          "text": [
            "32/32 [==============================] - 0s 2ms/step - loss: 0.5576 - binary_accuracy: 0.7670\n"
          ]
        }
      ]
    },
    {
      "cell_type": "code",
      "source": [
        "test_acc"
      ],
      "metadata": {
        "colab": {
          "base_uri": "https://localhost:8080/"
        },
        "id": "UZytGwwM3r_Q",
        "outputId": "21870157-4d84-4a1a-8c30-f6cd4568abe1"
      },
      "execution_count": null,
      "outputs": [
        {
          "output_type": "execute_result",
          "data": {
            "text/plain": [
              "0.7269999980926514"
            ]
          },
          "metadata": {},
          "execution_count": 110
        }
      ]
    },
    {
      "cell_type": "code",
      "source": [
        "acc = history.history['binary_accuracy']\n",
        "val_acc = history.history['val_binary_accuracy']\n",
        "loss = history.history['loss']\n",
        "val_loss = history.history['val_loss']\n",
        "\n",
        "epochs = range(1, len(acc) + 1)\n",
        "\n",
        "plt.plot(epochs, loss, 'bo', label='Training loss')\n",
        "plt.plot(epochs, val_loss, 'b', label='Validation loss')\n",
        "\n",
        "plt.title('Training and validation loss')\n",
        "plt.xlabel('Epochs')\n",
        "plt.ylabel('Loss')\n",
        "plt.legend()\n",
        "\n",
        "plt.show()"
      ],
      "metadata": {
        "colab": {
          "base_uri": "https://localhost:8080/",
          "height": 295
        },
        "id": "k9_PFEN3FFzK",
        "outputId": "70ae1a3a-3f32-4d62-bd8e-a1e7337c49e8"
      },
      "execution_count": null,
      "outputs": [
        {
          "output_type": "display_data",
          "data": {
            "text/plain": [
              "<Figure size 432x288 with 1 Axes>"
            ],
            "image/png": "[encoded data removed]"
          },
          "metadata": {
            "needs_background": "light"
          }
        }
      ]
    },
    {
      "cell_type": "markdown",
      "source": [
        "## Data Padding"
      ],
      "metadata": {
        "id": "HtxI991gx4Ia"
      }
    },
    {
      "cell_type": "code",
      "source": [
        "max_len = max([len(t) for t in train_text])\n",
        "all_len=[len(t) for t in train_text]"
      ],
      "metadata": {
        "id": "M-BxHmQCTXMq"
      },
      "execution_count": null,
      "outputs": []
    },
    {
      "cell_type": "code",
      "source": [
        "max_len"
      ],
      "metadata": {
        "colab": {
          "base_uri": "https://localhost:8080/"
        },
        "id": "KMNOuNJ1atas",
        "outputId": "dc8d4f57-243e-4736-b13d-7554ba97a434"
      },
      "execution_count": null,
      "outputs": [
        {
          "output_type": "execute_result",
          "data": {
            "text/plain": [
              "137"
            ]
          },
          "metadata": {},
          "execution_count": 178
        }
      ]
    },
    {
      "cell_type": "code",
      "source": [
        "sns.histplot(all_len)"
      ],
      "metadata": {
        "colab": {
          "base_uri": "https://localhost:8080/",
          "height": 282
        },
        "id": "6FlLsstqT5-B",
        "outputId": "911b7412-1260-4911-fb70-89be0d8a75e5"
      },
      "execution_count": null,
      "outputs": [
        {
          "output_type": "execute_result",
          "data": {
            "text/plain": [
              "<matplotlib.axes._subplots.AxesSubplot at 0x7f072c074510>"
            ]
          },
          "metadata": {},
          "execution_count": 179
        },
        {
          "output_type": "display_data",
          "data": {
            "text/plain": [
              "<Figure size 432x288 with 1 Axes>"
            ],
            "image/png": "[encoded data removed]"
          },
          "metadata": {
            "needs_background": "light"
          }
        }
      ]
    },
    {
      "cell_type": "code",
      "source": [
        "#let max length of padding 110\n",
        "max_len=110"
      ],
      "metadata": {
        "id": "2aS-1D9oyzeQ"
      },
      "execution_count": null,
      "outputs": []
    },
    {
      "cell_type": "code",
      "source": [
        "train_message= tok.texts_to_sequences(train_text)\n",
        "\n",
        "train_padded = pad_sequences(train_message,\n",
        "                                maxlen=max_len, \n",
        "                                truncating='post', \n",
        "                                padding='post'\n",
        "                               )"
      ],
      "metadata": {
        "id": "YeiJ0dY3Wufu"
      },
      "execution_count": null,
      "outputs": []
    },
    {
      "cell_type": "code",
      "source": [
        "test_message = tok.texts_to_sequences(test_text)\n",
        "\n",
        "test_padded = pad_sequences(test_message,\n",
        "                                maxlen=max_len, \n",
        "                                truncating='post', \n",
        "                                padding='post'\n",
        "                               )"
      ],
      "metadata": {
        "id": "Iv_7iV8UWwkL"
      },
      "execution_count": null,
      "outputs": []
    },
    {
      "cell_type": "code",
      "source": [
        "print(train_padded.shape)\n",
        "print(test_padded.shape)"
      ],
      "metadata": {
        "colab": {
          "base_uri": "https://localhost:8080/"
        },
        "id": "zA5jFz_VzMxi",
        "outputId": "e98d1340-3426-4ef2-d88a-810c83e49906"
      },
      "execution_count": null,
      "outputs": [
        {
          "output_type": "stream",
          "name": "stdout",
          "text": [
            "(7561, 110)\n",
            "(3263, 110)\n"
          ]
        }
      ]
    },
    {
      "cell_type": "code",
      "source": [
        "training_padded = np.array(train_padded)\n",
        "x_val = training_padded[:1000]\n",
        "partial_x_train = training_padded[1000:]\n",
        "\n",
        "y_val = y_train[:1000]\n",
        "partial_y_train = y_train[1000:]"
      ],
      "metadata": {
        "id": "zi3Np_0Tzcp8"
      },
      "execution_count": null,
      "outputs": []
    },
    {
      "cell_type": "markdown",
      "source": [
        "## LSTM Model"
      ],
      "metadata": {
        "id": "Ofe7PtLxHnxz"
      }
    },
    {
      "cell_type": "code",
      "source": [
        "lstm_model = models.Sequential()\n",
        "lstm_model.add(layers.Embedding(vocab_size, 64, input_length=max_len))\n",
        "lstm_model.add(layers.LSTM(50))\n",
        "lstm_model.add(layers.Flatten())\n",
        "lstm_model.add(layers.Dense(1, activation='sigmoid'))"
      ],
      "metadata": {
        "id": "JVI4eUdzz-t0"
      },
      "execution_count": null,
      "outputs": []
    },
    {
      "cell_type": "code",
      "source": [
        "lstm_model.summary()"
      ],
      "metadata": {
        "colab": {
          "base_uri": "https://localhost:8080/"
        },
        "id": "nxs7cB1D0I7E",
        "outputId": "7984f13d-243b-4c1e-c2d3-41a48e98b695"
      },
      "execution_count": null,
      "outputs": [
        {
          "output_type": "stream",
          "name": "stdout",
          "text": [
            "Model: \"sequential_14\"\n",
            "_________________________________________________________________\n",
            " Layer (type)                Output Shape              Param #   \n",
            "=================================================================\n",
            " embedding_8 (Embedding)     (None, 110, 64)           1002048   \n",
            "                                                                 \n",
            " lstm_7 (LSTM)               (None, 50)                23000     \n",
            "                                                                 \n",
            " flatten_8 (Flatten)         (None, 50)                0         \n",
            "                                                                 \n",
            " dense_28 (Dense)            (None, 1)                 51        \n",
            "                                                                 \n",
            "=================================================================\n",
            "Total params: 1,025,099\n",
            "Trainable params: 1,025,099\n",
            "Non-trainable params: 0\n",
            "_________________________________________________________________\n"
          ]
        }
      ]
    },
    {
      "cell_type": "code",
      "source": [
        "lstm_model.compile(\n",
        "    loss='binary_crossentropy',\n",
        "    optimizer='Adamax',\n",
        "    metrics=[metrics.binary_accuracy]\n",
        ")"
      ],
      "metadata": {
        "id": "V6iR0THS0ie2"
      },
      "execution_count": null,
      "outputs": []
    },
    {
      "cell_type": "code",
      "source": [
        "history = lstm_model.fit(partial_x_train,\n",
        "                    partial_y_train,\n",
        "                    epochs=10,\n",
        "                    batch_size=256,\n",
        "                    validation_data=(x_val, y_val))"
      ],
      "metadata": {
        "colab": {
          "base_uri": "https://localhost:8080/"
        },
        "id": "4p_lZVHO0bfP",
        "outputId": "aaa84422-9079-437b-8185-237baaafe552"
      },
      "execution_count": null,
      "outputs": [
        {
          "output_type": "stream",
          "name": "stdout",
          "text": [
            "Epoch 1/10\n",
            "26/26 [==============================] - 34s 294ms/step - loss: 0.6887 - binary_accuracy: 0.5475 - val_loss: 0.6582 - val_binary_accuracy: 0.6960\n",
            "Epoch 2/10\n",
            "26/26 [==============================] - 6s 230ms/step - loss: 0.6878 - binary_accuracy: 0.5527 - val_loss: 0.6567 - val_binary_accuracy: 0.6960\n",
            "Epoch 3/10\n",
            "26/26 [==============================] - 6s 229ms/step - loss: 0.6879 - binary_accuracy: 0.5527 - val_loss: 0.6579 - val_binary_accuracy: 0.6960\n",
            "Epoch 4/10\n",
            "26/26 [==============================] - 6s 226ms/step - loss: 0.6878 - binary_accuracy: 0.5527 - val_loss: 0.6573 - val_binary_accuracy: 0.6960\n",
            "Epoch 5/10\n",
            "26/26 [==============================] - 6s 228ms/step - loss: 0.6878 - binary_accuracy: 0.5527 - val_loss: 0.6595 - val_binary_accuracy: 0.6960\n",
            "Epoch 6/10\n",
            "26/26 [==============================] - 6s 232ms/step - loss: 0.6879 - binary_accuracy: 0.5527 - val_loss: 0.6567 - val_binary_accuracy: 0.6960\n",
            "Epoch 7/10\n",
            "26/26 [==============================] - 7s 258ms/step - loss: 0.6877 - binary_accuracy: 0.5527 - val_loss: 0.6555 - val_binary_accuracy: 0.6960\n",
            "Epoch 8/10\n",
            "26/26 [==============================] - 7s 265ms/step - loss: 0.6877 - binary_accuracy: 0.5527 - val_loss: 0.6590 - val_binary_accuracy: 0.6960\n",
            "Epoch 9/10\n",
            "26/26 [==============================] - 6s 230ms/step - loss: 0.6877 - binary_accuracy: 0.5527 - val_loss: 0.6571 - val_binary_accuracy: 0.6960\n",
            "Epoch 10/10\n",
            "26/26 [==============================] - 6s 233ms/step - loss: 0.6877 - binary_accuracy: 0.5527 - val_loss: 0.6566 - val_binary_accuracy: 0.6960\n"
          ]
        }
      ]
    },
    {
      "cell_type": "code",
      "source": [
        "test_loss, test_acc = lstm_model.evaluate(x_val, y_val)"
      ],
      "metadata": {
        "colab": {
          "base_uri": "https://localhost:8080/"
        },
        "id": "dZMJHSoW_zsX",
        "outputId": "13127b46-9858-41e2-c3bc-c891be647769"
      },
      "execution_count": null,
      "outputs": [
        {
          "output_type": "stream",
          "name": "stdout",
          "text": [
            "32/32 [==============================] - 1s 15ms/step - loss: 0.6566 - binary_accuracy: 0.6960\n"
          ]
        }
      ]
    },
    {
      "cell_type": "markdown",
      "source": [
        "## Bidirectional LSTM"
      ],
      "metadata": {
        "id": "9CMo1NImkoE0"
      }
    },
    {
      "cell_type": "code",
      "source": [
        "blstm_model = models.Sequential()\n",
        "blstm_model.add(layers.Embedding(vocab_size, 128, input_length=max_len))\n",
        "blstm_model.add(layers.Bidirectional(layers.LSTM(50, dropout=0.2)))\n",
        "blstm_model.add(layers.Flatten())\n",
        "blstm_model.add(layers.Dense(1, activation='sigmoid'))\n",
        "\n",
        "blstm_model.compile(\n",
        "    loss='binary_crossentropy',\n",
        "    optimizer='Adamax',\n",
        "    metrics=[metrics.binary_accuracy]\n",
        ")\n"
      ],
      "metadata": {
        "id": "kBNSiZJr0Qxi"
      },
      "execution_count": null,
      "outputs": []
    },
    {
      "cell_type": "code",
      "source": [
        "blstm_model.summary()"
      ],
      "metadata": {
        "colab": {
          "base_uri": "https://localhost:8080/"
        },
        "id": "CeYQiol_0r5f",
        "outputId": "ee6bf68e-e8c3-46ad-f4cb-59183059e091"
      },
      "execution_count": null,
      "outputs": [
        {
          "output_type": "stream",
          "name": "stdout",
          "text": [
            "Model: \"sequential_15\"\n",
            "_________________________________________________________________\n",
            " Layer (type)                Output Shape              Param #   \n",
            "=================================================================\n",
            " embedding_9 (Embedding)     (None, 110, 128)          2004096   \n",
            "                                                                 \n",
            " bidirectional_2 (Bidirectio  (None, 100)              71600     \n",
            " nal)                                                            \n",
            "                                                                 \n",
            " flatten_9 (Flatten)         (None, 100)               0         \n",
            "                                                                 \n",
            " dense_29 (Dense)            (None, 1)                 101       \n",
            "                                                                 \n",
            "=================================================================\n",
            "Total params: 2,075,797\n",
            "Trainable params: 2,075,797\n",
            "Non-trainable params: 0\n",
            "_________________________________________________________________\n"
          ]
        }
      ]
    },
    {
      "cell_type": "code",
      "source": [
        "blstm_model.compile(\n",
        "    loss='binary_crossentropy',\n",
        "    optimizer='Adamax',\n",
        "    metrics=[metrics.binary_accuracy]\n",
        ")"
      ],
      "metadata": {
        "id": "qLHfkS7H0uH2"
      },
      "execution_count": null,
      "outputs": []
    },
    {
      "cell_type": "code",
      "source": [
        "history = blstm_model.fit(partial_x_train,\n",
        "                    partial_y_train,\n",
        "                    epochs=10,\n",
        "                    batch_size=256,\n",
        "                    validation_data=(x_val, y_val))"
      ],
      "metadata": {
        "colab": {
          "base_uri": "https://localhost:8080/"
        },
        "id": "fOWP7JmW0xoz",
        "outputId": "fa3aaf65-e75d-4392-d2b7-bd487f31cdc6"
      },
      "execution_count": null,
      "outputs": [
        {
          "output_type": "stream",
          "name": "stdout",
          "text": [
            "Epoch 1/10\n",
            "26/26 [==============================] - 20s 763ms/step - loss: 0.3770 - binary_accuracy: 0.8346 - val_loss: 0.4796 - val_binary_accuracy: 0.7920\n",
            "Epoch 2/10\n",
            "26/26 [==============================] - 16s 622ms/step - loss: 0.3715 - binary_accuracy: 0.8400 - val_loss: 0.4757 - val_binary_accuracy: 0.7970\n",
            "Epoch 3/10\n",
            "26/26 [==============================] - 16s 625ms/step - loss: 0.3712 - binary_accuracy: 0.8377 - val_loss: 0.4971 - val_binary_accuracy: 0.7850\n",
            "Epoch 4/10\n",
            "26/26 [==============================] - 16s 627ms/step - loss: 0.3697 - binary_accuracy: 0.8390 - val_loss: 0.4870 - val_binary_accuracy: 0.7930\n",
            "Epoch 5/10\n",
            "26/26 [==============================] - 22s 839ms/step - loss: 0.3673 - binary_accuracy: 0.8387 - val_loss: 0.4905 - val_binary_accuracy: 0.7880\n",
            "Epoch 6/10\n",
            "26/26 [==============================] - 17s 658ms/step - loss: 0.3631 - binary_accuracy: 0.8430 - val_loss: 0.4920 - val_binary_accuracy: 0.7870\n",
            "Epoch 7/10\n",
            "26/26 [==============================] - 16s 627ms/step - loss: 0.3624 - binary_accuracy: 0.8380 - val_loss: 0.4837 - val_binary_accuracy: 0.7970\n",
            "Epoch 8/10\n",
            "26/26 [==============================] - 16s 625ms/step - loss: 0.3596 - binary_accuracy: 0.8442 - val_loss: 0.4813 - val_binary_accuracy: 0.7970\n",
            "Epoch 9/10\n",
            "26/26 [==============================] - 16s 624ms/step - loss: 0.3583 - binary_accuracy: 0.8435 - val_loss: 0.5018 - val_binary_accuracy: 0.7870\n",
            "Epoch 10/10\n",
            "26/26 [==============================] - 16s 621ms/step - loss: 0.3547 - binary_accuracy: 0.8441 - val_loss: 0.4991 - val_binary_accuracy: 0.7930\n"
          ]
        }
      ]
    },
    {
      "cell_type": "code",
      "source": [
        "test_loss, test_acc = blstm_model.evaluate(x_val, y_val)"
      ],
      "metadata": {
        "colab": {
          "base_uri": "https://localhost:8080/"
        },
        "id": "Q3KTltqzEM-l",
        "outputId": "581101d2-db69-490b-ffbb-c40079f674d6"
      },
      "execution_count": null,
      "outputs": [
        {
          "output_type": "stream",
          "name": "stdout",
          "text": [
            "32/32 [==============================] - 1s 29ms/step - loss: 0.4991 - binary_accuracy: 0.7930\n"
          ]
        }
      ]
    },
    {
      "cell_type": "markdown",
      "source": [
        "## GRU Model"
      ],
      "metadata": {
        "id": "PuWgkD7p1BwL"
      }
    },
    {
      "cell_type": "code",
      "source": [
        "GRU_model = models.Sequential()\n",
        "GRU_model.add(layers.Embedding(vocab_size, 64))\n",
        "GRU_model.add(layers.Bidirectional(layers.GRU(64)))\n",
        "GRU_model.add(layers.Dense(1, activation='sigmoid'))\n",
        "\n",
        "GRU_model.summary()"
      ],
      "metadata": {
        "colab": {
          "base_uri": "https://localhost:8080/"
        },
        "id": "Lk2rhlE41DHL",
        "outputId": "1ffe1d05-0b86-4872-b6ca-8afc39092032"
      },
      "execution_count": null,
      "outputs": [
        {
          "output_type": "stream",
          "name": "stdout",
          "text": [
            "Model: \"sequential_17\"\n",
            "_________________________________________________________________\n",
            " Layer (type)                Output Shape              Param #   \n",
            "=================================================================\n",
            " embedding_11 (Embedding)    (None, None, 64)          1002048   \n",
            "                                                                 \n",
            " bidirectional_4 (Bidirectio  (None, 128)              49920     \n",
            " nal)                                                            \n",
            "                                                                 \n",
            " dense_31 (Dense)            (None, 1)                 129       \n",
            "                                                                 \n",
            "=================================================================\n",
            "Total params: 1,052,097\n",
            "Trainable params: 1,052,097\n",
            "Non-trainable params: 0\n",
            "_________________________________________________________________\n"
          ]
        }
      ]
    },
    {
      "cell_type": "code",
      "source": [
        " "
      ],
      "metadata": {
        "id": "gmUvkRqy2Cd-"
      },
      "execution_count": null,
      "outputs": []
    },
    {
      "cell_type": "code",
      "source": [
        "history = GRU_model.fit(partial_x_train,\n",
        "                    partial_y_train,\n",
        "                    epochs=10,\n",
        "                    batch_size=256,\n",
        "                    validation_data=(x_val, y_val))"
      ],
      "metadata": {
        "colab": {
          "base_uri": "https://localhost:8080/"
        },
        "id": "W4SEodAG2Kw-",
        "outputId": "c6c10b36-9c3e-4c21-952a-b8ea69841097"
      },
      "execution_count": null,
      "outputs": [
        {
          "output_type": "stream",
          "name": "stdout",
          "text": [
            "Epoch 1/10\n",
            "26/26 [==============================] - 18s 521ms/step - loss: 0.6841 - binary_accuracy: 0.5528 - val_loss: 0.6475 - val_binary_accuracy: 0.6960\n",
            "Epoch 2/10\n",
            "26/26 [==============================] - 13s 487ms/step - loss: 0.6622 - binary_accuracy: 0.5822 - val_loss: 0.6021 - val_binary_accuracy: 0.7330\n",
            "Epoch 3/10\n",
            "26/26 [==============================] - 13s 491ms/step - loss: 0.6020 - binary_accuracy: 0.7107 - val_loss: 0.5445 - val_binary_accuracy: 0.7590\n",
            "Epoch 4/10\n",
            "26/26 [==============================] - 13s 488ms/step - loss: 0.5226 - binary_accuracy: 0.7654 - val_loss: 0.4934 - val_binary_accuracy: 0.7740\n",
            "Epoch 5/10\n",
            "26/26 [==============================] - 13s 490ms/step - loss: 0.4652 - binary_accuracy: 0.7868 - val_loss: 0.4759 - val_binary_accuracy: 0.7830\n",
            "Epoch 6/10\n",
            "26/26 [==============================] - 13s 488ms/step - loss: 0.4344 - binary_accuracy: 0.8019 - val_loss: 0.4809 - val_binary_accuracy: 0.7920\n",
            "Epoch 7/10\n",
            "26/26 [==============================] - 13s 489ms/step - loss: 0.4189 - binary_accuracy: 0.8101 - val_loss: 0.4847 - val_binary_accuracy: 0.7990\n",
            "Epoch 8/10\n",
            "26/26 [==============================] - 13s 489ms/step - loss: 0.4067 - binary_accuracy: 0.8137 - val_loss: 0.4708 - val_binary_accuracy: 0.8010\n",
            "Epoch 9/10\n",
            "26/26 [==============================] - 13s 487ms/step - loss: 0.3947 - binary_accuracy: 0.8209 - val_loss: 0.4606 - val_binary_accuracy: 0.8010\n",
            "Epoch 10/10\n",
            "26/26 [==============================] - 13s 488ms/step - loss: 0.3866 - binary_accuracy: 0.8272 - val_loss: 0.4694 - val_binary_accuracy: 0.8020\n"
          ]
        }
      ]
    },
    {
      "cell_type": "code",
      "source": [
        "test_loss, test_acc = GRU_model.evaluate(x_val, y_val)"
      ],
      "metadata": {
        "colab": {
          "base_uri": "https://localhost:8080/"
        },
        "id": "_kchxqUX3U4n",
        "outputId": "c3b34685-5a5d-40fd-f2c2-36e68c5e2093"
      },
      "execution_count": null,
      "outputs": [
        {
          "output_type": "stream",
          "name": "stdout",
          "text": [
            "32/32 [==============================] - 1s 23ms/step - loss: 0.4694 - binary_accuracy: 0.8020\n"
          ]
        }
      ]
    },
    {
      "cell_type": "code",
      "source": [
        "test_acc"
      ],
      "metadata": {
        "colab": {
          "base_uri": "https://localhost:8080/"
        },
        "id": "DXfAf4IS3Vgv",
        "outputId": "55c3ff53-51e7-442a-c267-05e0312aec19"
      },
      "execution_count": null,
      "outputs": [
        {
          "output_type": "execute_result",
          "data": {
            "text/plain": [
              "0.8019999861717224"
            ]
          },
          "metadata": {},
          "execution_count": 211
        }
      ]
    }
  ],
  "metadata": {
    "colab": {
      "name": "DisasterTweets_NLP.ipynb",
      "provenance": [],
      "collapsed_sections": [
        "EasCYsSdpRoC",
        "ckGuO8MwVelA",
        "64bn-0gcmkl_",
        "Qr1Xd_3dyT8x",
        "lSdJQZKDzVx4",
        "XdHITqc6zj3d",
        "IG5Qg13az-nu",
        "NgHy2a7t3PrI",
        "cBtaGJKo3WXy",
        "2DrpLCMt8spA",
        "7JJwSD826pC4",
        "Cem2vYIfAZd_",
        "lCYoNn_1xVjT"
      ],
      "authorship_tag": "ABX9TyPGPdN+vgWSaJathYY5cr27",
      "include_colab_link": true
    },
    "kernelspec": {
      "display_name": "Python 3",
      "name": "python3"
    },
    "language_info": {
      "name": "python"
    }
  },
  "nbformat": 4,
  "nbformat_minor": 0
}